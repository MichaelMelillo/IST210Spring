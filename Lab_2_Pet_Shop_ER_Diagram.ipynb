{
  "nbformat": 4,
  "nbformat_minor": 0,
  "metadata": {
    "colab": {
      "name": "Lab 2: Pet Shop ER Diagram",
      "provenance": [],
      "authorship_tag": "ABX9TyNHOb36yJfsbOx2It5ZV0sG",
      "include_colab_link": true
    },
    "kernelspec": {
      "name": "python3",
      "display_name": "Python 3"
    }
  },
  "cells": [
    {
      "cell_type": "markdown",
      "metadata": {
        "id": "view-in-github",
        "colab_type": "text"
      },
      "source": [
        "<a href=\"https://colab.research.google.com/github/MichaelMelillo/IST210Spring/blob/master/Lab_2_Pet_Shop_ER_Diagram.ipynb\" target=\"_parent\"><img src=\"https://colab.research.google.com/assets/colab-badge.svg\" alt=\"Open In Colab\"/></a>"
      ]
    },
    {
      "cell_type": "markdown",
      "metadata": {
        "id": "OikL8VIULKbF",
        "colab_type": "text"
      },
      "source": [
        "![alt text](https://raw.githubusercontent.com/MichaelMelillo/IST210Spring/master/PetSmartDiagram-2.png)"
      ]
    },
    {
      "cell_type": "markdown",
      "metadata": {
        "id": "sO-0ZslQLKpy",
        "colab_type": "text"
      },
      "source": [
        "For my diagram, I designed it so customers was in the middle and had many other tables branching out to it. I did this because customers linked to many of my other tables very well do to the fact that in a pet shop, a customer is going to get all things necessary for a pet like food, enclosures, the pet itself, etc. and these were my other tables. To start, I linked the primary key in my table customers, which was loyalty ID, to loyalty ID in my table transaction pets, which was a weak relationship. This was a weak relatioship because customers primary key is a loyalty ID, and when they adopt a pet, pets also have a loyalty ID, but it is not the primary key for that table. The customers table also had a weak relationship with the loyalty ID in the Transaction(food) table for the same reason. Lastly, a third weak relationship was used with the customers table. The primary key in the loyalty program table was loyalty contract, which was not the primary key in customers however it was in the parent entity so it was a weak relationship. Customers subscribe to a loyalty program and have a loyalty contract, which is the main thing the loyalty program table offers. My last two relationships were also weak relationships. The primary key of transactions(pets) was pet code and this was a aprent entity in the enclosures table, thus creating this weak relationship. Pets are kept in enclosures and both pets and enclosures contain a pet code. My last relationship was with the table food(inventory) and transaction(food). Food Id is the primary key in food(inventory), but is a parent entity in transaction(food). This once again creates a weak relationship. Food is documented in the food inventory and both tables contain an entity of food ID, but it is only the primary key in the food(inventory) table.  "
      ]
    }
  ]
}