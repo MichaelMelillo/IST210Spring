{
  "nbformat": 4,
  "nbformat_minor": 0,
  "metadata": {
    "colab": {
      "name": "Lab 1: First Google Notebook",
      "provenance": [],
      "authorship_tag": "ABX9TyPh1rrfguTb4+q1LJJdvA2s",
      "include_colab_link": true
    },
    "kernelspec": {
      "name": "python3",
      "display_name": "Python 3"
    }
  },
  "cells": [
    {
      "cell_type": "markdown",
      "metadata": {
        "id": "view-in-github",
        "colab_type": "text"
      },
      "source": [
        "<a href=\"https://colab.research.google.com/github/MichaelMelillo/IST210Spring/blob/master/Lab_1_First_Google_Notebook.ipynb\" target=\"_parent\"><img src=\"https://colab.research.google.com/assets/colab-badge.svg\" alt=\"Open In Colab\"/></a>"
      ]
    },
    {
      "cell_type": "markdown",
      "metadata": {
        "id": "2ccyKQVCG1PR",
        "colab_type": "text"
      },
      "source": [
        "## Name ##\n",
        "Michael Melillo"
      ]
    },
    {
      "cell_type": "markdown",
      "metadata": {
        "id": "4eBpefXWHO9a",
        "colab_type": "text"
      },
      "source": [
        "## IST Related Interests ##\n",
        "I enjoy learning about the new advances we have in technology and all the new things we are beginning to create and make better using technology like a self-driving car for example. Also, I enjoy coding and learning how to code. Security Risk Analysis is my major so I also like taking classes in my major and learning about all security and risk material that will help me have a career someday after college."
      ]
    },
    {
      "cell_type": "markdown",
      "metadata": {
        "id": "-8r9Vi4lH0n7",
        "colab_type": "text"
      },
      "source": [
        "## Future Job/Career ##\n",
        "I do not know what I want to do yet specifically for my future job/career, but my major is SRA and I would definiteky like to go into something that uses this major. I have done some research on this and one job I am interested in after college is wroking for the CIA in some way. "
      ]
    },
    {
      "cell_type": "markdown",
      "metadata": {
        "id": "otAthguTMZJp",
        "colab_type": "text"
      },
      "source": [
        "![alt text](https://raw.githubusercontent.com/MichaelMelillo/IST210Spring/master/IMG_3799.JPG)"
      ]
    }
  ]
}